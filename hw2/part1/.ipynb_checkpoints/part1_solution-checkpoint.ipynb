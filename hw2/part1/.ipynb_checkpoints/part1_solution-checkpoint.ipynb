{
 "cells": [
  {
   "cell_type": "code",
   "execution_count": 1,
   "metadata": {
    "collapsed": false
   },
   "outputs": [],
   "source": [
    "import subprocess, sqlite3, csv, os\n",
    "\n",
    "\n",
    "db = sqlite3.connect(\"part1test.db\") # change this to 'part1test.db' for testing\n",
    "db.text_factory = str"
   ]
  },
  {
   "cell_type": "code",
   "execution_count": 2,
   "metadata": {
    "collapsed": false
   },
   "outputs": [],
   "source": [
    "#\n",
    "def q1():\n",
    "    db.executescript(\"\"\"\n",
    "        DROP VIEW IF EXISTS q1;    \n",
    "        CREATE VIEW q1 AS\n",
    "            SELECT companies.company_name, price_amount \n",
    "            FROM companies            \n",
    "            LEFT OUTER JOIN acquisitions\n",
    "            ON companies.company_name = acquisitions.company_name\n",
    "            WHERE companies.status LIKE \"acquired\";\n",
    "            \n",
    "    \"\"\")\n",
    "    return\n",
    "\n",
    "q1()"
   ]
  },
  {
   "cell_type": "code",
   "execution_count": 3,
   "metadata": {
    "collapsed": false
   },
   "outputs": [],
   "source": [
    "# How many startups (according this data), were funded between 2012 and 2014?\n",
    "def q2():\n",
    "    r = db.executescript(\"\"\"\n",
    "        DROP VIEW IF EXISTS q2;\n",
    "\n",
    "        CREATE VIEW q2 AS\n",
    "        SELECT\n",
    "            COUNT(*)\n",
    "        FROM\n",
    "            companies\n",
    "        WHERE\n",
    "            -- figure out the comparison of string euqal versus range in time\n",
    "            -- should i just keep the data as strings?\n",
    "            founded_at <= '2014-12-31'\n",
    "        AND\n",
    "            founded_at >= '2012-01-01';\n",
    "\n",
    "        SELECT * FROM q2;\n",
    "    \"\"\")\n",
    "    return"
   ]
  },
  {
   "cell_type": "code",
   "execution_count": 4,
   "metadata": {
    "collapsed": false
   },
   "outputs": [],
   "source": [
    "# What is the state that has the most number of startups are in the  \n",
    "#    \"Security\" market (i.e. market column contains the word \"Security\")?\n",
    "# Output should be the state and the corresponding number\n",
    "# Note that if there are multiple values with equal values, we want to see all of them, \n",
    "#   ordered by name \n",
    "# You might want to look into the keyword \"LIKE\", \n",
    "\n",
    "## TODO: change solution!!! and example that \n",
    "\n",
    "def q3():\n",
    "    db.executescript(\"\"\"\n",
    "        DROP VIEW IF EXISTS q3;\n",
    "        \n",
    "        DROP VIEW IF EXISTS T;\n",
    "        CREATE VIEW T AS\n",
    "        \n",
    "            SELECT\n",
    "                state, count(company_name) AS total\n",
    "            FROM\n",
    "                companies\n",
    "            WHERE\n",
    "                market LIKE '%Security%'            \n",
    "            AND\n",
    "                state != \"\"            \n",
    "            GROUP BY\n",
    "                state;\n",
    "                \n",
    "        CREATE VIEW q3 AS        \n",
    "        SELECT\n",
    "            T.state, T.total\n",
    "        FROM T     \n",
    "        WHERE T.total = (SELECT MAX(T.total) FROM T);\n",
    "        \n",
    "    \"\"\")\n",
    "    return\n",
    "q3()"
   ]
  },
  {
   "cell_type": "code",
   "execution_count": 5,
   "metadata": {
    "collapsed": true
   },
   "outputs": [],
   "source": [
    "# Which cities has more numbers of acquirers than startups?\n",
    "\n",
    "# Note that a startup could be counted as an acquirer, \n",
    "#    but it should only be counted at most once in both cases\n",
    "# NO NEED TO CHECK FOR 0\n",
    "\n",
    "def q4():\n",
    "    db.executescript(\"\"\"\n",
    "    \n",
    "        DROP VIEW IF EXISTS q4;\n",
    "        DROP VIEW IF EXISTS q4temp;\n",
    "        CREATE VIEW q4temp AS        \n",
    "        SELECT\n",
    "            C.city, A.acquirer_city, C.total as ct,  A.total AS at\n",
    "        FROM\n",
    "            (SELECT\n",
    "                acquirer_city, count(DISTINCT acquirer_name) AS total\n",
    "            FROM\n",
    "                acquisitions\n",
    "            GROUP BY\n",
    "                acquirer_city) A\n",
    "        LEFT OUTER JOIN\n",
    "            (SELECT\n",
    "                city, count(DISTINCT company_name) AS total\n",
    "            FROM\n",
    "                companies\n",
    "            GROUP BY\n",
    "                city) C\n",
    "        ON\n",
    "            C.city = A.acquirer_city;\n",
    "            \n",
    "        CREATE VIEW q4 AS\n",
    "        SELECT \n",
    "            acquirer_city\n",
    "        FROM q4temp\n",
    "        WHERE \n",
    "            at > ct \n",
    "        OR ct ISNULL;            \n",
    "    \"\"\")\n",
    "    return\n"
   ]
  },
  {
   "cell_type": "code",
   "execution_count": 6,
   "metadata": {
    "collapsed": false
   },
   "outputs": [
    {
     "name": "stdout",
     "output_type": "stream",
     "text": [
      "diff: /home/dmitry/coms4037/hw/hw2/part1/expected_output/q1.csv: No such file or directory\r\n",
      "ERROR q1 output differed! See diffs/q1.csv\r\n",
      "diff: /home/dmitry/coms4037/hw/hw2/part1/expected_output/q2.csv: No such file or directory\r\n",
      "ERROR q2 output differed! See diffs/q2.csv\r\n",
      "diff: /home/dmitry/coms4037/hw/hw2/part1/expected_output/q3.csv: No such file or directory\r\n",
      "ERROR q3 output differed! See diffs/q3.csv\r\n",
      "diff: /home/dmitry/coms4037/hw/hw2/part1/expected_output/q4.csv: No such file or directory\r\n",
      "ERROR q4 output differed! See diffs/q4.csv\r\n"
     ]
    }
   ],
   "source": [
    "q1()\n",
    "q2()\n",
    "q3()\n",
    "q4()\n",
    "! ./test.sh"
   ]
  },
  {
   "cell_type": "code",
   "execution_count": null,
   "metadata": {
    "collapsed": true
   },
   "outputs": [],
   "source": []
  }
 ],
 "metadata": {
  "anaconda-cloud": {},
  "kernelspec": {
   "display_name": "Python [default]",
   "language": "python",
   "name": "python2"
  },
  "language_info": {
   "codemirror_mode": {
    "name": "ipython",
    "version": 2
   },
   "file_extension": ".py",
   "mimetype": "text/x-python",
   "name": "python",
   "nbconvert_exporter": "python",
   "pygments_lexer": "ipython2",
   "version": "2.7.12"
  }
 },
 "nbformat": 4,
 "nbformat_minor": 0
}
